{
 "cells": [
  {
   "cell_type": "markdown",
   "metadata": {},
   "source": [
    "## Preprocessing"
   ]
  },
  {
   "cell_type": "code",
   "execution_count": 1,
   "metadata": {},
   "outputs": [
    {
     "name": "stdout",
     "output_type": "stream",
     "text": [
      "WARNING:tensorflow:From c:\\Users\\mahsa\\anaconda3\\envs\\dev\\lib\\site-packages\\keras\\src\\losses.py:2976: The name tf.losses.sparse_softmax_cross_entropy is deprecated. Please use tf.compat.v1.losses.sparse_softmax_cross_entropy instead.\n",
      "\n"
     ]
    },
    {
     "data": {
      "text/html": [
       "<div>\n",
       "<style scoped>\n",
       "    .dataframe tbody tr th:only-of-type {\n",
       "        vertical-align: middle;\n",
       "    }\n",
       "\n",
       "    .dataframe tbody tr th {\n",
       "        vertical-align: top;\n",
       "    }\n",
       "\n",
       "    .dataframe thead th {\n",
       "        text-align: right;\n",
       "    }\n",
       "</style>\n",
       "<table border=\"1\" class=\"dataframe\">\n",
       "  <thead>\n",
       "    <tr style=\"text-align: right;\">\n",
       "      <th></th>\n",
       "      <th>EIN</th>\n",
       "      <th>NAME</th>\n",
       "      <th>APPLICATION_TYPE</th>\n",
       "      <th>AFFILIATION</th>\n",
       "      <th>CLASSIFICATION</th>\n",
       "      <th>USE_CASE</th>\n",
       "      <th>ORGANIZATION</th>\n",
       "      <th>STATUS</th>\n",
       "      <th>INCOME_AMT</th>\n",
       "      <th>SPECIAL_CONSIDERATIONS</th>\n",
       "      <th>ASK_AMT</th>\n",
       "      <th>IS_SUCCESSFUL</th>\n",
       "    </tr>\n",
       "  </thead>\n",
       "  <tbody>\n",
       "    <tr>\n",
       "      <th>0</th>\n",
       "      <td>10520599</td>\n",
       "      <td>BLUE KNIGHTS MOTORCYCLE CLUB</td>\n",
       "      <td>T10</td>\n",
       "      <td>Independent</td>\n",
       "      <td>C1000</td>\n",
       "      <td>ProductDev</td>\n",
       "      <td>Association</td>\n",
       "      <td>1</td>\n",
       "      <td>0</td>\n",
       "      <td>N</td>\n",
       "      <td>5000</td>\n",
       "      <td>1</td>\n",
       "    </tr>\n",
       "    <tr>\n",
       "      <th>1</th>\n",
       "      <td>10531628</td>\n",
       "      <td>AMERICAN CHESAPEAKE CLUB CHARITABLE TR</td>\n",
       "      <td>T3</td>\n",
       "      <td>Independent</td>\n",
       "      <td>C2000</td>\n",
       "      <td>Preservation</td>\n",
       "      <td>Co-operative</td>\n",
       "      <td>1</td>\n",
       "      <td>1-9999</td>\n",
       "      <td>N</td>\n",
       "      <td>108590</td>\n",
       "      <td>1</td>\n",
       "    </tr>\n",
       "    <tr>\n",
       "      <th>2</th>\n",
       "      <td>10547893</td>\n",
       "      <td>ST CLOUD PROFESSIONAL FIREFIGHTERS</td>\n",
       "      <td>T5</td>\n",
       "      <td>CompanySponsored</td>\n",
       "      <td>C3000</td>\n",
       "      <td>ProductDev</td>\n",
       "      <td>Association</td>\n",
       "      <td>1</td>\n",
       "      <td>0</td>\n",
       "      <td>N</td>\n",
       "      <td>5000</td>\n",
       "      <td>0</td>\n",
       "    </tr>\n",
       "    <tr>\n",
       "      <th>3</th>\n",
       "      <td>10553066</td>\n",
       "      <td>SOUTHSIDE ATHLETIC ASSOCIATION</td>\n",
       "      <td>T3</td>\n",
       "      <td>CompanySponsored</td>\n",
       "      <td>C2000</td>\n",
       "      <td>Preservation</td>\n",
       "      <td>Trust</td>\n",
       "      <td>1</td>\n",
       "      <td>10000-24999</td>\n",
       "      <td>N</td>\n",
       "      <td>6692</td>\n",
       "      <td>1</td>\n",
       "    </tr>\n",
       "    <tr>\n",
       "      <th>4</th>\n",
       "      <td>10556103</td>\n",
       "      <td>GENETIC RESEARCH INSTITUTE OF THE DESERT</td>\n",
       "      <td>T3</td>\n",
       "      <td>Independent</td>\n",
       "      <td>C1000</td>\n",
       "      <td>Heathcare</td>\n",
       "      <td>Trust</td>\n",
       "      <td>1</td>\n",
       "      <td>100000-499999</td>\n",
       "      <td>N</td>\n",
       "      <td>142590</td>\n",
       "      <td>1</td>\n",
       "    </tr>\n",
       "  </tbody>\n",
       "</table>\n",
       "</div>"
      ],
      "text/plain": [
       "        EIN                                      NAME APPLICATION_TYPE  \\\n",
       "0  10520599              BLUE KNIGHTS MOTORCYCLE CLUB              T10   \n",
       "1  10531628    AMERICAN CHESAPEAKE CLUB CHARITABLE TR               T3   \n",
       "2  10547893        ST CLOUD PROFESSIONAL FIREFIGHTERS               T5   \n",
       "3  10553066            SOUTHSIDE ATHLETIC ASSOCIATION               T3   \n",
       "4  10556103  GENETIC RESEARCH INSTITUTE OF THE DESERT               T3   \n",
       "\n",
       "        AFFILIATION CLASSIFICATION      USE_CASE  ORGANIZATION  STATUS  \\\n",
       "0       Independent          C1000    ProductDev   Association       1   \n",
       "1       Independent          C2000  Preservation  Co-operative       1   \n",
       "2  CompanySponsored          C3000    ProductDev   Association       1   \n",
       "3  CompanySponsored          C2000  Preservation         Trust       1   \n",
       "4       Independent          C1000     Heathcare         Trust       1   \n",
       "\n",
       "      INCOME_AMT SPECIAL_CONSIDERATIONS  ASK_AMT  IS_SUCCESSFUL  \n",
       "0              0                      N     5000              1  \n",
       "1         1-9999                      N   108590              1  \n",
       "2              0                      N     5000              0  \n",
       "3    10000-24999                      N     6692              1  \n",
       "4  100000-499999                      N   142590              1  "
      ]
     },
     "execution_count": 1,
     "metadata": {},
     "output_type": "execute_result"
    }
   ],
   "source": [
    "# Import our dependencies\n",
    "from sklearn.model_selection import train_test_split\n",
    "from sklearn.preprocessing import StandardScaler\n",
    "import pandas as pd\n",
    "\n",
    "import tensorflow as tf\n",
    "\n",
    "import warnings\n",
    "warnings.filterwarnings('ignore')\n",
    "\n",
    "#  Import and read the charity_data.csv.\n",
    "application_df = pd.read_csv(\"https://static.bc-edx.com/data/dl-1-2/m21/lms/starter/charity_data.csv\")\n",
    "application_df.head()"
   ]
  },
  {
   "cell_type": "code",
   "execution_count": 2,
   "metadata": {},
   "outputs": [],
   "source": [
    "# Drop the non-beneficial ID columns, 'EIN' and 'NAME'.\n",
    "application_df = application_df.drop(columns=['EIN','NAME'], axis=1)"
   ]
  },
  {
   "cell_type": "code",
   "execution_count": 3,
   "metadata": {},
   "outputs": [
    {
     "data": {
      "text/plain": [
       "APPLICATION_TYPE            17\n",
       "AFFILIATION                  6\n",
       "CLASSIFICATION              71\n",
       "USE_CASE                     5\n",
       "ORGANIZATION                 4\n",
       "STATUS                       2\n",
       "INCOME_AMT                   9\n",
       "SPECIAL_CONSIDERATIONS       2\n",
       "ASK_AMT                   8747\n",
       "IS_SUCCESSFUL                2\n",
       "dtype: int64"
      ]
     },
     "execution_count": 3,
     "metadata": {},
     "output_type": "execute_result"
    }
   ],
   "source": [
    "# Determine the number of unique values in each column.\n",
    "application_df.nunique()"
   ]
  },
  {
   "cell_type": "code",
   "execution_count": 4,
   "metadata": {},
   "outputs": [
    {
     "data": {
      "text/plain": [
       "T3     27037\n",
       "T4      1542\n",
       "T6      1216\n",
       "T5      1173\n",
       "T19     1065\n",
       "T8       737\n",
       "T7       725\n",
       "T10      528\n",
       "T9       156\n",
       "T13       66\n",
       "T12       27\n",
       "T2        16\n",
       "T25        3\n",
       "T14        3\n",
       "T29        2\n",
       "T15        2\n",
       "T17        1\n",
       "Name: APPLICATION_TYPE, dtype: int64"
      ]
     },
     "execution_count": 4,
     "metadata": {},
     "output_type": "execute_result"
    }
   ],
   "source": [
    "# Look at APPLICATION_TYPE value counts for binning\n",
    "app_counts = application_df['APPLICATION_TYPE'].value_counts()\n",
    "app_counts"
   ]
  },
  {
   "cell_type": "code",
   "execution_count": 5,
   "metadata": {},
   "outputs": [
    {
     "data": {
      "text/plain": [
       "T3       27037\n",
       "T4        1542\n",
       "T6        1216\n",
       "T5        1173\n",
       "T19       1065\n",
       "T8         737\n",
       "T7         725\n",
       "T10        528\n",
       "Other      276\n",
       "Name: APPLICATION_TYPE, dtype: int64"
      ]
     },
     "execution_count": 5,
     "metadata": {},
     "output_type": "execute_result"
    }
   ],
   "source": [
    "# Choose a cutoff value and create a list of application types to be replaced\n",
    "# use the variable name `application_types_to_replace`\n",
    "cutoff_value = 500\n",
    "application_types_to_replace = app_counts[app_counts < cutoff_value].index\n",
    "\n",
    "# Replace in dataframe\n",
    "for app in application_types_to_replace:\n",
    "    application_df['APPLICATION_TYPE'] = application_df['APPLICATION_TYPE'].replace(app,\"Other\")\n",
    "\n",
    "# Check to make sure binning was successful\n",
    "application_df['APPLICATION_TYPE'].value_counts()"
   ]
  },
  {
   "cell_type": "code",
   "execution_count": 6,
   "metadata": {},
   "outputs": [
    {
     "data": {
      "text/plain": [
       "C1000    17326\n",
       "C2000     6074\n",
       "C1200     4837\n",
       "C3000     1918\n",
       "C2100     1883\n",
       "         ...  \n",
       "C4120        1\n",
       "C8210        1\n",
       "C2561        1\n",
       "C4500        1\n",
       "C2150        1\n",
       "Name: CLASSIFICATION, Length: 71, dtype: int64"
      ]
     },
     "execution_count": 6,
     "metadata": {},
     "output_type": "execute_result"
    }
   ],
   "source": [
    "# Look at CLASSIFICATION value counts for binning\n",
    "class_counts= application_df['CLASSIFICATION'].value_counts()\n",
    "class_counts"
   ]
  },
  {
   "cell_type": "code",
   "execution_count": 7,
   "metadata": {},
   "outputs": [
    {
     "data": {
      "text/plain": [
       "C1000    17326\n",
       "C2000     6074\n",
       "C1200     4837\n",
       "C3000     1918\n",
       "C2100     1883\n",
       "C7000      777\n",
       "C1700      287\n",
       "C4000      194\n",
       "C5000      116\n",
       "C1270      114\n",
       "C2700      104\n",
       "C2800       95\n",
       "C7100       75\n",
       "C1300       58\n",
       "C1280       50\n",
       "C1230       36\n",
       "C1400       34\n",
       "C7200       32\n",
       "C2300       32\n",
       "C1240       30\n",
       "C8000       20\n",
       "C7120       18\n",
       "C1500       16\n",
       "C1800       15\n",
       "C6000       15\n",
       "C1250       14\n",
       "C8200       11\n",
       "C1238       10\n",
       "C1278       10\n",
       "C1235        9\n",
       "C1237        9\n",
       "C7210        7\n",
       "C2400        6\n",
       "C1720        6\n",
       "C4100        6\n",
       "C1257        5\n",
       "C1600        5\n",
       "C1260        3\n",
       "C2710        3\n",
       "C0           3\n",
       "C3200        2\n",
       "C1234        2\n",
       "C1246        2\n",
       "C1267        2\n",
       "C1256        2\n",
       "Name: CLASSIFICATION, dtype: int64"
      ]
     },
     "execution_count": 7,
     "metadata": {},
     "output_type": "execute_result"
    }
   ],
   "source": [
    "# You may find it helpful to look at CLASSIFICATION value counts >1\n",
    "class_counts[class_counts > 1]"
   ]
  },
  {
   "cell_type": "code",
   "execution_count": 8,
   "metadata": {},
   "outputs": [
    {
     "data": {
      "text/plain": [
       "C1000    17326\n",
       "C2000     6074\n",
       "C1200     4837\n",
       "Other     2261\n",
       "C3000     1918\n",
       "C2100     1883\n",
       "Name: CLASSIFICATION, dtype: int64"
      ]
     },
     "execution_count": 8,
     "metadata": {},
     "output_type": "execute_result"
    }
   ],
   "source": [
    "# Choose a cutoff value and create a list of classifications to be replaced\n",
    "# use the variable name `classifications_to_replace`\n",
    "cutoff_value = 1800\n",
    "classifications_to_replace = class_counts[class_counts < cutoff_value].index\n",
    "\n",
    "# Replace in dataframe\n",
    "for cls in classifications_to_replace:\n",
    "    application_df['CLASSIFICATION'] = application_df['CLASSIFICATION'].replace(cls,\"Other\")\n",
    "    \n",
    "# Check to make sure binning was successful\n",
    "application_df['CLASSIFICATION'].value_counts()"
   ]
  },
  {
   "cell_type": "code",
   "execution_count": 9,
   "metadata": {},
   "outputs": [
    {
     "data": {
      "text/html": [
       "<div>\n",
       "<style scoped>\n",
       "    .dataframe tbody tr th:only-of-type {\n",
       "        vertical-align: middle;\n",
       "    }\n",
       "\n",
       "    .dataframe tbody tr th {\n",
       "        vertical-align: top;\n",
       "    }\n",
       "\n",
       "    .dataframe thead th {\n",
       "        text-align: right;\n",
       "    }\n",
       "</style>\n",
       "<table border=\"1\" class=\"dataframe\">\n",
       "  <thead>\n",
       "    <tr style=\"text-align: right;\">\n",
       "      <th></th>\n",
       "      <th>STATUS</th>\n",
       "      <th>ASK_AMT</th>\n",
       "      <th>IS_SUCCESSFUL</th>\n",
       "      <th>APPLICATION_TYPE_Other</th>\n",
       "      <th>APPLICATION_TYPE_T10</th>\n",
       "      <th>APPLICATION_TYPE_T19</th>\n",
       "      <th>APPLICATION_TYPE_T3</th>\n",
       "      <th>APPLICATION_TYPE_T4</th>\n",
       "      <th>APPLICATION_TYPE_T5</th>\n",
       "      <th>APPLICATION_TYPE_T6</th>\n",
       "      <th>...</th>\n",
       "      <th>INCOME_AMT_1-9999</th>\n",
       "      <th>INCOME_AMT_10000-24999</th>\n",
       "      <th>INCOME_AMT_100000-499999</th>\n",
       "      <th>INCOME_AMT_10M-50M</th>\n",
       "      <th>INCOME_AMT_1M-5M</th>\n",
       "      <th>INCOME_AMT_25000-99999</th>\n",
       "      <th>INCOME_AMT_50M+</th>\n",
       "      <th>INCOME_AMT_5M-10M</th>\n",
       "      <th>SPECIAL_CONSIDERATIONS_N</th>\n",
       "      <th>SPECIAL_CONSIDERATIONS_Y</th>\n",
       "    </tr>\n",
       "  </thead>\n",
       "  <tbody>\n",
       "    <tr>\n",
       "      <th>34294</th>\n",
       "      <td>1</td>\n",
       "      <td>5000</td>\n",
       "      <td>0</td>\n",
       "      <td>0</td>\n",
       "      <td>0</td>\n",
       "      <td>0</td>\n",
       "      <td>0</td>\n",
       "      <td>1</td>\n",
       "      <td>0</td>\n",
       "      <td>0</td>\n",
       "      <td>...</td>\n",
       "      <td>0</td>\n",
       "      <td>0</td>\n",
       "      <td>0</td>\n",
       "      <td>0</td>\n",
       "      <td>0</td>\n",
       "      <td>0</td>\n",
       "      <td>0</td>\n",
       "      <td>0</td>\n",
       "      <td>1</td>\n",
       "      <td>0</td>\n",
       "    </tr>\n",
       "    <tr>\n",
       "      <th>34295</th>\n",
       "      <td>1</td>\n",
       "      <td>5000</td>\n",
       "      <td>0</td>\n",
       "      <td>0</td>\n",
       "      <td>0</td>\n",
       "      <td>0</td>\n",
       "      <td>0</td>\n",
       "      <td>1</td>\n",
       "      <td>0</td>\n",
       "      <td>0</td>\n",
       "      <td>...</td>\n",
       "      <td>0</td>\n",
       "      <td>0</td>\n",
       "      <td>0</td>\n",
       "      <td>0</td>\n",
       "      <td>0</td>\n",
       "      <td>0</td>\n",
       "      <td>0</td>\n",
       "      <td>0</td>\n",
       "      <td>1</td>\n",
       "      <td>0</td>\n",
       "    </tr>\n",
       "    <tr>\n",
       "      <th>34296</th>\n",
       "      <td>1</td>\n",
       "      <td>5000</td>\n",
       "      <td>0</td>\n",
       "      <td>0</td>\n",
       "      <td>0</td>\n",
       "      <td>0</td>\n",
       "      <td>1</td>\n",
       "      <td>0</td>\n",
       "      <td>0</td>\n",
       "      <td>0</td>\n",
       "      <td>...</td>\n",
       "      <td>0</td>\n",
       "      <td>0</td>\n",
       "      <td>0</td>\n",
       "      <td>0</td>\n",
       "      <td>0</td>\n",
       "      <td>0</td>\n",
       "      <td>0</td>\n",
       "      <td>0</td>\n",
       "      <td>1</td>\n",
       "      <td>0</td>\n",
       "    </tr>\n",
       "    <tr>\n",
       "      <th>34297</th>\n",
       "      <td>1</td>\n",
       "      <td>5000</td>\n",
       "      <td>1</td>\n",
       "      <td>0</td>\n",
       "      <td>0</td>\n",
       "      <td>0</td>\n",
       "      <td>0</td>\n",
       "      <td>0</td>\n",
       "      <td>1</td>\n",
       "      <td>0</td>\n",
       "      <td>...</td>\n",
       "      <td>0</td>\n",
       "      <td>0</td>\n",
       "      <td>0</td>\n",
       "      <td>0</td>\n",
       "      <td>0</td>\n",
       "      <td>0</td>\n",
       "      <td>0</td>\n",
       "      <td>0</td>\n",
       "      <td>1</td>\n",
       "      <td>0</td>\n",
       "    </tr>\n",
       "    <tr>\n",
       "      <th>34298</th>\n",
       "      <td>1</td>\n",
       "      <td>36500179</td>\n",
       "      <td>0</td>\n",
       "      <td>0</td>\n",
       "      <td>0</td>\n",
       "      <td>0</td>\n",
       "      <td>1</td>\n",
       "      <td>0</td>\n",
       "      <td>0</td>\n",
       "      <td>0</td>\n",
       "      <td>...</td>\n",
       "      <td>0</td>\n",
       "      <td>0</td>\n",
       "      <td>0</td>\n",
       "      <td>0</td>\n",
       "      <td>1</td>\n",
       "      <td>0</td>\n",
       "      <td>0</td>\n",
       "      <td>0</td>\n",
       "      <td>1</td>\n",
       "      <td>0</td>\n",
       "    </tr>\n",
       "  </tbody>\n",
       "</table>\n",
       "<p>5 rows × 44 columns</p>\n",
       "</div>"
      ],
      "text/plain": [
       "       STATUS   ASK_AMT  IS_SUCCESSFUL  APPLICATION_TYPE_Other  \\\n",
       "34294       1      5000              0                       0   \n",
       "34295       1      5000              0                       0   \n",
       "34296       1      5000              0                       0   \n",
       "34297       1      5000              1                       0   \n",
       "34298       1  36500179              0                       0   \n",
       "\n",
       "       APPLICATION_TYPE_T10  APPLICATION_TYPE_T19  APPLICATION_TYPE_T3  \\\n",
       "34294                     0                     0                    0   \n",
       "34295                     0                     0                    0   \n",
       "34296                     0                     0                    1   \n",
       "34297                     0                     0                    0   \n",
       "34298                     0                     0                    1   \n",
       "\n",
       "       APPLICATION_TYPE_T4  APPLICATION_TYPE_T5  APPLICATION_TYPE_T6  ...  \\\n",
       "34294                    1                    0                    0  ...   \n",
       "34295                    1                    0                    0  ...   \n",
       "34296                    0                    0                    0  ...   \n",
       "34297                    0                    1                    0  ...   \n",
       "34298                    0                    0                    0  ...   \n",
       "\n",
       "       INCOME_AMT_1-9999  INCOME_AMT_10000-24999  INCOME_AMT_100000-499999  \\\n",
       "34294                  0                       0                         0   \n",
       "34295                  0                       0                         0   \n",
       "34296                  0                       0                         0   \n",
       "34297                  0                       0                         0   \n",
       "34298                  0                       0                         0   \n",
       "\n",
       "       INCOME_AMT_10M-50M  INCOME_AMT_1M-5M  INCOME_AMT_25000-99999  \\\n",
       "34294                   0                 0                       0   \n",
       "34295                   0                 0                       0   \n",
       "34296                   0                 0                       0   \n",
       "34297                   0                 0                       0   \n",
       "34298                   0                 1                       0   \n",
       "\n",
       "       INCOME_AMT_50M+  INCOME_AMT_5M-10M  SPECIAL_CONSIDERATIONS_N  \\\n",
       "34294                0                  0                         1   \n",
       "34295                0                  0                         1   \n",
       "34296                0                  0                         1   \n",
       "34297                0                  0                         1   \n",
       "34298                0                  0                         1   \n",
       "\n",
       "       SPECIAL_CONSIDERATIONS_Y  \n",
       "34294                         0  \n",
       "34295                         0  \n",
       "34296                         0  \n",
       "34297                         0  \n",
       "34298                         0  \n",
       "\n",
       "[5 rows x 44 columns]"
      ]
     },
     "execution_count": 9,
     "metadata": {},
     "output_type": "execute_result"
    }
   ],
   "source": [
    "# Convert categorical data to numeric with `pd.get_dummies`\n",
    "app_dummies_df = pd.get_dummies(application_df)\n",
    "app_dummies_df[-5:]"
   ]
  },
  {
   "cell_type": "code",
   "execution_count": 10,
   "metadata": {},
   "outputs": [
    {
     "data": {
      "text/plain": [
       "STATUS                             2\n",
       "ASK_AMT                         8747\n",
       "IS_SUCCESSFUL                      2\n",
       "APPLICATION_TYPE_Other             2\n",
       "APPLICATION_TYPE_T10               2\n",
       "APPLICATION_TYPE_T19               2\n",
       "APPLICATION_TYPE_T3                2\n",
       "APPLICATION_TYPE_T4                2\n",
       "APPLICATION_TYPE_T5                2\n",
       "APPLICATION_TYPE_T6                2\n",
       "APPLICATION_TYPE_T7                2\n",
       "APPLICATION_TYPE_T8                2\n",
       "AFFILIATION_CompanySponsored       2\n",
       "AFFILIATION_Family/Parent          2\n",
       "AFFILIATION_Independent            2\n",
       "AFFILIATION_National               2\n",
       "AFFILIATION_Other                  2\n",
       "AFFILIATION_Regional               2\n",
       "CLASSIFICATION_C1000               2\n",
       "CLASSIFICATION_C1200               2\n",
       "CLASSIFICATION_C2000               2\n",
       "CLASSIFICATION_C2100               2\n",
       "CLASSIFICATION_C3000               2\n",
       "CLASSIFICATION_Other               2\n",
       "USE_CASE_CommunityServ             2\n",
       "USE_CASE_Heathcare                 2\n",
       "USE_CASE_Other                     2\n",
       "USE_CASE_Preservation              2\n",
       "USE_CASE_ProductDev                2\n",
       "ORGANIZATION_Association           2\n",
       "ORGANIZATION_Co-operative          2\n",
       "ORGANIZATION_Corporation           2\n",
       "ORGANIZATION_Trust                 2\n",
       "INCOME_AMT_0                       2\n",
       "INCOME_AMT_1-9999                  2\n",
       "INCOME_AMT_10000-24999             2\n",
       "INCOME_AMT_100000-499999           2\n",
       "INCOME_AMT_10M-50M                 2\n",
       "INCOME_AMT_1M-5M                   2\n",
       "INCOME_AMT_25000-99999             2\n",
       "INCOME_AMT_50M+                    2\n",
       "INCOME_AMT_5M-10M                  2\n",
       "SPECIAL_CONSIDERATIONS_N           2\n",
       "SPECIAL_CONSIDERATIONS_Y           2\n",
       "dtype: int64"
      ]
     },
     "execution_count": 10,
     "metadata": {},
     "output_type": "execute_result"
    }
   ],
   "source": [
    "app_dummies_df.nunique()"
   ]
  },
  {
   "cell_type": "code",
   "execution_count": 11,
   "metadata": {},
   "outputs": [],
   "source": [
    "# Split our preprocessed data into our features and target arrays\n",
    "X = app_dummies_df.drop(columns='IS_SUCCESSFUL')\n",
    "y = app_dummies_df['IS_SUCCESSFUL']\n",
    "\n",
    "# Split the preprocessed data into a training and testing dataset\n",
    "X_train, X_test, y_train, y_test = train_test_split(X, y, test_size=0.2 ,random_state=42)"
   ]
  },
  {
   "cell_type": "code",
   "execution_count": 12,
   "metadata": {},
   "outputs": [],
   "source": [
    "# Create a StandardScaler instances\n",
    "scaler = StandardScaler()\n",
    "\n",
    "# Fit the StandardScaler\n",
    "X_scaler = scaler.fit(X_train)\n",
    "\n",
    "# Scale the data\n",
    "X_train_scaled = X_scaler.transform(X_train)\n",
    "X_test_scaled = X_scaler.transform(X_test)"
   ]
  },
  {
   "cell_type": "code",
   "execution_count": 13,
   "metadata": {},
   "outputs": [
    {
     "data": {
      "text/plain": [
       "array([[ 0.01350021, -0.03115182, -0.09072351, ..., -0.07135527,\n",
       "         0.02832705, -0.02832705],\n",
       "       [ 0.01350021, -0.03115182, -0.09072351, ..., -0.07135527,\n",
       "         0.02832705, -0.02832705],\n",
       "       [ 0.01350021, -0.03115182, -0.09072351, ..., -0.07135527,\n",
       "         0.02832705, -0.02832705],\n",
       "       ...,\n",
       "       [ 0.01350021, -0.03115182, -0.09072351, ..., -0.07135527,\n",
       "         0.02832705, -0.02832705],\n",
       "       [ 0.01350021, -0.03115182, -0.09072351, ..., -0.07135527,\n",
       "         0.02832705, -0.02832705],\n",
       "       [ 0.01350021, -0.03115182, -0.09072351, ..., -0.07135527,\n",
       "         0.02832705, -0.02832705]])"
      ]
     },
     "execution_count": 13,
     "metadata": {},
     "output_type": "execute_result"
    }
   ],
   "source": [
    "X_train_scaled"
   ]
  },
  {
   "cell_type": "code",
   "execution_count": 14,
   "metadata": {},
   "outputs": [
    {
     "data": {
      "text/plain": [
       "(27439, 43)"
      ]
     },
     "execution_count": 14,
     "metadata": {},
     "output_type": "execute_result"
    }
   ],
   "source": [
    "X_train_scaled.shape"
   ]
  },
  {
   "cell_type": "code",
   "execution_count": 15,
   "metadata": {},
   "outputs": [
    {
     "data": {
      "text/plain": [
       "43"
      ]
     },
     "execution_count": 15,
     "metadata": {},
     "output_type": "execute_result"
    }
   ],
   "source": [
    "len(X_train_scaled[0])"
   ]
  },
  {
   "cell_type": "markdown",
   "metadata": {},
   "source": [
    "## Compile, Train and Evaluate the Model"
   ]
  },
  {
   "cell_type": "code",
   "execution_count": 16,
   "metadata": {},
   "outputs": [
    {
     "name": "stdout",
     "output_type": "stream",
     "text": [
      "WARNING:tensorflow:From c:\\Users\\mahsa\\anaconda3\\envs\\dev\\lib\\site-packages\\keras\\src\\backend.py:873: The name tf.get_default_graph is deprecated. Please use tf.compat.v1.get_default_graph instead.\n",
      "\n",
      "Model: \"sequential\"\n",
      "_________________________________________________________________\n",
      " Layer (type)                Output Shape              Param #   \n",
      "=================================================================\n",
      " dense (Dense)               (None, 80)                3520      \n",
      "                                                                 \n",
      " dense_1 (Dense)             (None, 30)                2430      \n",
      "                                                                 \n",
      " dense_2 (Dense)             (None, 1)                 31        \n",
      "                                                                 \n",
      "=================================================================\n",
      "Total params: 5981 (23.36 KB)\n",
      "Trainable params: 5981 (23.36 KB)\n",
      "Non-trainable params: 0 (0.00 Byte)\n",
      "_________________________________________________________________\n"
     ]
    }
   ],
   "source": [
    "# Define the model - deep neural net, i.e., the number of input features and hidden nodes for each layer.\n",
    "\n",
    "number_input_features = len(X_train_scaled[0])\n",
    "hidden_nodes_layer1 =  80\n",
    "hidden_nodes_layer2 = 30\n",
    "\n",
    "nn = tf.keras.models.Sequential()\n",
    "\n",
    "# First hidden layer\n",
    "nn.add(tf.keras.layers.Dense(units= hidden_nodes_layer1, activation=\"relu\", input_dim= number_input_features))\n",
    "\n",
    "# Second hidden layer\n",
    "nn.add(tf.keras.layers.Dense(units= hidden_nodes_layer2, activation=\"relu\"))\n",
    "\n",
    "# Output layer\n",
    "nn.add(tf.keras.layers.Dense(units=1, activation=\"sigmoid\"))\n",
    "\n",
    "# Check the structure of the model\n",
    "nn.summary()"
   ]
  },
  {
   "cell_type": "code",
   "execution_count": 17,
   "metadata": {},
   "outputs": [
    {
     "name": "stdout",
     "output_type": "stream",
     "text": [
      "WARNING:tensorflow:From c:\\Users\\mahsa\\anaconda3\\envs\\dev\\lib\\site-packages\\keras\\src\\optimizers\\__init__.py:309: The name tf.train.Optimizer is deprecated. Please use tf.compat.v1.train.Optimizer instead.\n",
      "\n"
     ]
    }
   ],
   "source": [
    "# Compile the model\n",
    "nn.compile(optimizer='adam', loss='binary_crossentropy', metrics=['accuracy'])"
   ]
  },
  {
   "cell_type": "code",
   "execution_count": 18,
   "metadata": {},
   "outputs": [
    {
     "name": "stdout",
     "output_type": "stream",
     "text": [
      "Epoch 1/100\n",
      "WARNING:tensorflow:From c:\\Users\\mahsa\\anaconda3\\envs\\dev\\lib\\site-packages\\keras\\src\\utils\\tf_utils.py:492: The name tf.ragged.RaggedTensorValue is deprecated. Please use tf.compat.v1.ragged.RaggedTensorValue instead.\n",
      "\n",
      "WARNING:tensorflow:From c:\\Users\\mahsa\\anaconda3\\envs\\dev\\lib\\site-packages\\keras\\src\\engine\\base_layer_utils.py:384: The name tf.executing_eagerly_outside_functions is deprecated. Please use tf.compat.v1.executing_eagerly_outside_functions instead.\n",
      "\n",
      "858/858 [==============================] - 2s 1ms/step - loss: 0.5691 - accuracy: 0.7218\n",
      "Epoch 2/100\n",
      "858/858 [==============================] - 1s 1ms/step - loss: 0.5549 - accuracy: 0.7295\n",
      "Epoch 3/100\n",
      "858/858 [==============================] - 1s 1ms/step - loss: 0.5520 - accuracy: 0.7303\n",
      "Epoch 4/100\n",
      "858/858 [==============================] - 1s 1ms/step - loss: 0.5498 - accuracy: 0.7320\n",
      "Epoch 5/100\n",
      "858/858 [==============================] - 1s 1ms/step - loss: 0.5486 - accuracy: 0.7333\n",
      "Epoch 6/100\n",
      "858/858 [==============================] - 1s 1ms/step - loss: 0.5481 - accuracy: 0.7319\n",
      "Epoch 7/100\n",
      "858/858 [==============================] - 1s 1ms/step - loss: 0.5471 - accuracy: 0.7336\n",
      "Epoch 8/100\n",
      "858/858 [==============================] - 1s 1ms/step - loss: 0.5463 - accuracy: 0.7320\n",
      "Epoch 9/100\n",
      "858/858 [==============================] - 1s 1ms/step - loss: 0.5459 - accuracy: 0.7341\n",
      "Epoch 10/100\n",
      "858/858 [==============================] - 1s 1ms/step - loss: 0.5450 - accuracy: 0.7335\n",
      "Epoch 11/100\n",
      "858/858 [==============================] - 1s 1ms/step - loss: 0.5450 - accuracy: 0.7343\n",
      "Epoch 12/100\n",
      "858/858 [==============================] - 1s 1ms/step - loss: 0.5442 - accuracy: 0.7338\n",
      "Epoch 13/100\n",
      "858/858 [==============================] - 1s 1ms/step - loss: 0.5436 - accuracy: 0.7350\n",
      "Epoch 14/100\n",
      "858/858 [==============================] - 1s 1ms/step - loss: 0.5437 - accuracy: 0.7350\n",
      "Epoch 15/100\n",
      "858/858 [==============================] - 1s 1ms/step - loss: 0.5429 - accuracy: 0.7364\n",
      "Epoch 16/100\n",
      "858/858 [==============================] - 1s 1ms/step - loss: 0.5423 - accuracy: 0.7348\n",
      "Epoch 17/100\n",
      "858/858 [==============================] - 1s 1ms/step - loss: 0.5428 - accuracy: 0.7357\n",
      "Epoch 18/100\n",
      "858/858 [==============================] - 1s 1ms/step - loss: 0.5418 - accuracy: 0.7359\n",
      "Epoch 19/100\n",
      "858/858 [==============================] - 1s 1ms/step - loss: 0.5418 - accuracy: 0.7353\n",
      "Epoch 20/100\n",
      "858/858 [==============================] - 1s 1ms/step - loss: 0.5415 - accuracy: 0.7364\n",
      "Epoch 21/100\n",
      "858/858 [==============================] - 1s 1ms/step - loss: 0.5416 - accuracy: 0.7357\n",
      "Epoch 22/100\n",
      "858/858 [==============================] - 1s 1ms/step - loss: 0.5409 - accuracy: 0.7363\n",
      "Epoch 23/100\n",
      "858/858 [==============================] - 1s 1ms/step - loss: 0.5407 - accuracy: 0.7359\n",
      "Epoch 24/100\n",
      "858/858 [==============================] - 1s 1ms/step - loss: 0.5404 - accuracy: 0.7355\n",
      "Epoch 25/100\n",
      "858/858 [==============================] - 1s 1ms/step - loss: 0.5406 - accuracy: 0.7366\n",
      "Epoch 26/100\n",
      "858/858 [==============================] - 1s 1ms/step - loss: 0.5400 - accuracy: 0.7367\n",
      "Epoch 27/100\n",
      "858/858 [==============================] - 1s 1ms/step - loss: 0.5401 - accuracy: 0.7356\n",
      "Epoch 28/100\n",
      "858/858 [==============================] - 1s 1ms/step - loss: 0.5397 - accuracy: 0.7371\n",
      "Epoch 29/100\n",
      "858/858 [==============================] - 1s 1ms/step - loss: 0.5396 - accuracy: 0.7376\n",
      "Epoch 30/100\n",
      "858/858 [==============================] - 1s 1ms/step - loss: 0.5397 - accuracy: 0.7376\n",
      "Epoch 31/100\n",
      "858/858 [==============================] - 1s 1ms/step - loss: 0.5391 - accuracy: 0.7369\n",
      "Epoch 32/100\n",
      "858/858 [==============================] - 1s 1ms/step - loss: 0.5393 - accuracy: 0.7366\n",
      "Epoch 33/100\n",
      "858/858 [==============================] - 1s 1ms/step - loss: 0.5390 - accuracy: 0.7366\n",
      "Epoch 34/100\n",
      "858/858 [==============================] - 1s 1ms/step - loss: 0.5388 - accuracy: 0.7369\n",
      "Epoch 35/100\n",
      "858/858 [==============================] - 1s 1ms/step - loss: 0.5385 - accuracy: 0.7375\n",
      "Epoch 36/100\n",
      "858/858 [==============================] - 1s 1ms/step - loss: 0.5384 - accuracy: 0.7380\n",
      "Epoch 37/100\n",
      "858/858 [==============================] - 1s 2ms/step - loss: 0.5382 - accuracy: 0.7377\n",
      "Epoch 38/100\n",
      "858/858 [==============================] - 1s 1ms/step - loss: 0.5387 - accuracy: 0.7383\n",
      "Epoch 39/100\n",
      "858/858 [==============================] - 1s 1ms/step - loss: 0.5378 - accuracy: 0.7374\n",
      "Epoch 40/100\n",
      "858/858 [==============================] - 1s 1ms/step - loss: 0.5381 - accuracy: 0.7378\n",
      "Epoch 41/100\n",
      "858/858 [==============================] - 1s 1ms/step - loss: 0.5383 - accuracy: 0.7383\n",
      "Epoch 42/100\n",
      "858/858 [==============================] - 1s 1ms/step - loss: 0.5382 - accuracy: 0.7373\n",
      "Epoch 43/100\n",
      "858/858 [==============================] - 1s 1ms/step - loss: 0.5378 - accuracy: 0.7380\n",
      "Epoch 44/100\n",
      "858/858 [==============================] - 1s 1ms/step - loss: 0.5375 - accuracy: 0.7380\n",
      "Epoch 45/100\n",
      "858/858 [==============================] - 1s 2ms/step - loss: 0.5378 - accuracy: 0.7372\n",
      "Epoch 46/100\n",
      "858/858 [==============================] - 1s 2ms/step - loss: 0.5376 - accuracy: 0.7382\n",
      "Epoch 47/100\n",
      "858/858 [==============================] - 1s 2ms/step - loss: 0.5371 - accuracy: 0.7387\n",
      "Epoch 48/100\n",
      "858/858 [==============================] - 1s 1ms/step - loss: 0.5374 - accuracy: 0.7384\n",
      "Epoch 49/100\n",
      "858/858 [==============================] - 1s 1ms/step - loss: 0.5371 - accuracy: 0.7384\n",
      "Epoch 50/100\n",
      "858/858 [==============================] - 1s 1ms/step - loss: 0.5375 - accuracy: 0.7383\n",
      "Epoch 51/100\n",
      "858/858 [==============================] - 1s 1ms/step - loss: 0.5371 - accuracy: 0.7381\n",
      "Epoch 52/100\n",
      "858/858 [==============================] - 1s 1ms/step - loss: 0.5374 - accuracy: 0.7382\n",
      "Epoch 53/100\n",
      "858/858 [==============================] - 1s 1ms/step - loss: 0.5366 - accuracy: 0.7385\n",
      "Epoch 54/100\n",
      "858/858 [==============================] - 1s 1ms/step - loss: 0.5367 - accuracy: 0.7393\n",
      "Epoch 55/100\n",
      "858/858 [==============================] - 1s 1ms/step - loss: 0.5369 - accuracy: 0.7397\n",
      "Epoch 56/100\n",
      "858/858 [==============================] - 1s 1ms/step - loss: 0.5365 - accuracy: 0.7387\n",
      "Epoch 57/100\n",
      "858/858 [==============================] - 1s 1ms/step - loss: 0.5365 - accuracy: 0.7391\n",
      "Epoch 58/100\n",
      "858/858 [==============================] - 1s 1ms/step - loss: 0.5367 - accuracy: 0.7393\n",
      "Epoch 59/100\n",
      "858/858 [==============================] - 1s 1ms/step - loss: 0.5363 - accuracy: 0.7392\n",
      "Epoch 60/100\n",
      "858/858 [==============================] - 1s 1ms/step - loss: 0.5364 - accuracy: 0.7381\n",
      "Epoch 61/100\n",
      "858/858 [==============================] - 1s 1ms/step - loss: 0.5366 - accuracy: 0.7389\n",
      "Epoch 62/100\n",
      "858/858 [==============================] - 1s 1ms/step - loss: 0.5358 - accuracy: 0.7393\n",
      "Epoch 63/100\n",
      "858/858 [==============================] - 1s 1ms/step - loss: 0.5362 - accuracy: 0.7391\n",
      "Epoch 64/100\n",
      "858/858 [==============================] - 1s 1ms/step - loss: 0.5363 - accuracy: 0.7387\n",
      "Epoch 65/100\n",
      "858/858 [==============================] - 1s 1ms/step - loss: 0.5359 - accuracy: 0.7393\n",
      "Epoch 66/100\n",
      "858/858 [==============================] - 1s 1ms/step - loss: 0.5358 - accuracy: 0.7391\n",
      "Epoch 67/100\n",
      "858/858 [==============================] - 1s 1ms/step - loss: 0.5359 - accuracy: 0.7388\n",
      "Epoch 68/100\n",
      "858/858 [==============================] - 1s 1ms/step - loss: 0.5352 - accuracy: 0.7388\n",
      "Epoch 69/100\n",
      "858/858 [==============================] - 1s 1ms/step - loss: 0.5359 - accuracy: 0.7388\n",
      "Epoch 70/100\n",
      "858/858 [==============================] - 1s 1ms/step - loss: 0.5354 - accuracy: 0.7396\n",
      "Epoch 71/100\n",
      "858/858 [==============================] - 1s 1ms/step - loss: 0.5356 - accuracy: 0.7394\n",
      "Epoch 72/100\n",
      "858/858 [==============================] - 1s 1ms/step - loss: 0.5354 - accuracy: 0.7379\n",
      "Epoch 73/100\n",
      "858/858 [==============================] - 1s 1ms/step - loss: 0.5358 - accuracy: 0.7389\n",
      "Epoch 74/100\n",
      "858/858 [==============================] - 1s 1ms/step - loss: 0.5352 - accuracy: 0.7391\n",
      "Epoch 75/100\n",
      "858/858 [==============================] - 1s 1ms/step - loss: 0.5353 - accuracy: 0.7391\n",
      "Epoch 76/100\n",
      "858/858 [==============================] - 1s 1ms/step - loss: 0.5352 - accuracy: 0.7400\n",
      "Epoch 77/100\n",
      "858/858 [==============================] - 1s 1ms/step - loss: 0.5351 - accuracy: 0.7389\n",
      "Epoch 78/100\n",
      "858/858 [==============================] - 1s 1ms/step - loss: 0.5351 - accuracy: 0.7399\n",
      "Epoch 79/100\n",
      "858/858 [==============================] - 1s 1ms/step - loss: 0.5355 - accuracy: 0.7402\n",
      "Epoch 80/100\n",
      "858/858 [==============================] - 1s 1ms/step - loss: 0.5351 - accuracy: 0.7394\n",
      "Epoch 81/100\n",
      "858/858 [==============================] - 1s 1ms/step - loss: 0.5349 - accuracy: 0.7397\n",
      "Epoch 82/100\n",
      "858/858 [==============================] - 1s 1ms/step - loss: 0.5351 - accuracy: 0.7397\n",
      "Epoch 83/100\n",
      "858/858 [==============================] - 1s 1ms/step - loss: 0.5347 - accuracy: 0.7397\n",
      "Epoch 84/100\n",
      "858/858 [==============================] - 1s 1ms/step - loss: 0.5346 - accuracy: 0.7385\n",
      "Epoch 85/100\n",
      "858/858 [==============================] - 1s 1ms/step - loss: 0.5343 - accuracy: 0.7400\n",
      "Epoch 86/100\n",
      "858/858 [==============================] - 1s 1ms/step - loss: 0.5347 - accuracy: 0.7391\n",
      "Epoch 87/100\n",
      "858/858 [==============================] - 1s 1ms/step - loss: 0.5346 - accuracy: 0.7394\n",
      "Epoch 88/100\n",
      "858/858 [==============================] - 1s 1ms/step - loss: 0.5345 - accuracy: 0.7398\n",
      "Epoch 89/100\n",
      "858/858 [==============================] - 1s 1ms/step - loss: 0.5343 - accuracy: 0.7388\n",
      "Epoch 90/100\n",
      "858/858 [==============================] - 1s 1ms/step - loss: 0.5343 - accuracy: 0.7400\n",
      "Epoch 91/100\n",
      "858/858 [==============================] - 1s 1ms/step - loss: 0.5344 - accuracy: 0.7393\n",
      "Epoch 92/100\n",
      "858/858 [==============================] - 1s 1ms/step - loss: 0.5344 - accuracy: 0.7396\n",
      "Epoch 93/100\n",
      "858/858 [==============================] - 1s 1ms/step - loss: 0.5342 - accuracy: 0.7398\n",
      "Epoch 94/100\n",
      "858/858 [==============================] - 1s 1ms/step - loss: 0.5345 - accuracy: 0.7400\n",
      "Epoch 95/100\n",
      "858/858 [==============================] - 1s 1ms/step - loss: 0.5342 - accuracy: 0.7401\n",
      "Epoch 96/100\n",
      "858/858 [==============================] - 1s 1ms/step - loss: 0.5341 - accuracy: 0.7398\n",
      "Epoch 97/100\n",
      "858/858 [==============================] - 1s 1ms/step - loss: 0.5336 - accuracy: 0.7393\n",
      "Epoch 98/100\n",
      "858/858 [==============================] - 1s 1ms/step - loss: 0.5341 - accuracy: 0.7402\n",
      "Epoch 99/100\n",
      "858/858 [==============================] - 1s 1ms/step - loss: 0.5342 - accuracy: 0.7399\n",
      "Epoch 100/100\n",
      "858/858 [==============================] - 1s 1ms/step - loss: 0.5340 - accuracy: 0.7398\n"
     ]
    }
   ],
   "source": [
    "# Train the model with early stopping and provide validation data\n",
    "hist = nn.fit(X_train_scaled, y_train, epochs=100)"
   ]
  },
  {
   "cell_type": "code",
   "execution_count": 19,
   "metadata": {},
   "outputs": [
    {
     "data": {
      "image/png": "[encoded data removed]",
      "text/plain": [
       "<Figure size 640x480 with 1 Axes>"
      ]
     },
     "metadata": {},
     "output_type": "display_data"
    }
   ],
   "source": [
    "# Import matplotlib.pyplot\n",
    "import matplotlib.pyplot as plt\n",
    "\n",
    "# Plot the training loss\n",
    "plt.plot(hist.history['loss'])\n",
    "plt.xlabel('Epoch')\n",
    "plt.ylabel('Loss')\n",
    "plt.title('Training Loss Over Epochs')\n",
    "plt.show()"
   ]
  },
  {
   "cell_type": "code",
   "execution_count": 20,
   "metadata": {},
   "outputs": [
    {
     "name": "stdout",
     "output_type": "stream",
     "text": [
      "215/215 - 0s - loss: 0.5675 - accuracy: 0.7261 - 402ms/epoch - 2ms/step\n",
      "Loss: 0.5675250291824341, Accuracy: 0.7260932922363281\n"
     ]
    }
   ],
   "source": [
    "# Evaluate the model using the test data\n",
    "model_loss, model_accuracy = nn.evaluate(X_test_scaled,y_test,verbose=2)\n",
    "print(f\"Loss: {model_loss}, Accuracy: {model_accuracy}\")"
   ]
  },
  {
   "cell_type": "code",
   "execution_count": 21,
   "metadata": {},
   "outputs": [],
   "source": [
    "# Export our model to HDF5 file\n",
    "nn.save('AlphabetSoupCharity.h5')\n"
   ]
  }
 ],
 "metadata": {
  "kernelspec": {
   "display_name": "Python 3",
   "language": "python",
   "name": "python3"
  },
  "language_info": {
   "codemirror_mode": {
    "name": "ipython",
    "version": 3
   },
   "file_extension": ".py",
   "mimetype": "text/x-python",
   "name": "python",
   "nbconvert_exporter": "python",
   "pygments_lexer": "ipython3",
   "version": "3.10.12"
  },
  "vscode": {
   "interpreter": {
    "hash": "31f2aee4e71d21fbe5cf8b01ff0e069b9275f58929596ceb00d14d90e3e16cd6"
   }
  }
 },
 "nbformat": 4,
 "nbformat_minor": 4
}
